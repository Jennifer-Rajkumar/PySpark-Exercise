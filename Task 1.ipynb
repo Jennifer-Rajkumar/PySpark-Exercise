{
 "cells": [
  {
   "cell_type": "code",
   "execution_count": 1,
   "id": "48993409",
   "metadata": {},
   "outputs": [],
   "source": [
    "# Join cutomers, foods, week1 and week2 sales"
   ]
  },
  {
   "cell_type": "code",
   "execution_count": 2,
   "id": "abb3212f",
   "metadata": {},
   "outputs": [
    {
     "name": "stdout",
     "output_type": "stream",
     "text": [
      "23/01/31 15:47:51 WARN Utils: Your hostname, Presidios-MacBook-Pro-10.local resolves to a loopback address: 127.0.0.1; using 182.11.190.64 instead (on interface en0)\n",
      "23/01/31 15:47:51 WARN Utils: Set SPARK_LOCAL_IP if you need to bind to another address\n"
     ]
    },
    {
     "name": "stderr",
     "output_type": "stream",
     "text": [
      "Setting default log level to \"WARN\".\n",
      "To adjust logging level use sc.setLogLevel(newLevel). For SparkR, use setLogLevel(newLevel).\n"
     ]
    },
    {
     "name": "stdout",
     "output_type": "stream",
     "text": [
      "23/01/31 15:47:52 WARN NativeCodeLoader: Unable to load native-hadoop library for your platform... using builtin-java classes where applicable\n"
     ]
    }
   ],
   "source": [
    "import pyspark\n",
    "from pyspark.sql import SparkSession\n",
    "\n",
    "spark = SparkSession.builder.getOrCreate()"
   ]
  },
  {
   "cell_type": "code",
   "execution_count": 3,
   "id": "8d253beb",
   "metadata": {},
   "outputs": [],
   "source": [
    "customers = spark.read.format(\"csv\").option(\"header\",\"true\").load(\"Restaurant - Customers.csv\")\n",
    "foods = spark.read.format(\"csv\").option(\"header\",\"true\").load(\"Restaurant - Foods.csv\")\n",
    "week1Sales = spark.read.format(\"csv\").option(\"header\",\"true\").load(\"Restaurant - Week 1 Sales.csv\")\n",
    "week2Sales = spark.read.format(\"csv\").option(\"header\",\"true\").load(\"Restaurant - Week 2 Sales.csv\")"
   ]
  },
  {
   "cell_type": "code",
   "execution_count": 4,
   "id": "dfe5495b",
   "metadata": {},
   "outputs": [
    {
     "name": "stdout",
     "output_type": "stream",
     "text": [
      "+---+----------+---------+------+-------------+--------------------+\n",
      "| ID|First Name|Last Name|Gender|      Company|          Occupation|\n",
      "+---+----------+---------+------+-------------+--------------------+\n",
      "|  1|    Joseph|  Perkins|  Male|      Dynazzy|Community Outreac...|\n",
      "|  2|  Jennifer|  Alvarez|Female|         DabZ|Senior Quality En...|\n",
      "|  3|     Roger|    Black|  Male|      Tagfeed|   Account Executive|\n",
      "|  4|    Steven|    Evans|  Male|         Fatz|    Registered Nurse|\n",
      "|  5|      Judy| Morrison|Female|      Demivee|     Legal Assistant|\n",
      "|  6|    Amanda|   Howell|Female|Thoughtbridge|    Dental Hygienist|\n",
      "|  7|    Johnny|     Reid|  Male|  Babblestorm|   Account Executive|\n",
      "|  8|   Frances|    Adams|Female|     Dabshots|       Developer III|\n",
      "|  9|   Gregory|  Chapman|  Male|         Eayo|    Junior Executive|\n",
      "| 10|    Steven|     Ryan|  Male|      Twinder|Community Outreac...|\n",
      "| 11|   Michael| Reynolds|  Male|       Meevee|    Dental Hygienist|\n",
      "| 12|      Lois|  Watkins|Female|         Mydo| Staff Accountant IV|\n",
      "| 13|      Ruth|  Alvarez|Female|  Twitterlist|Mechanical System...|\n",
      "| 14|      Adam|     Ryan|  Male|     Photojam|      Research Nurse|\n",
      "| 15|     Jesse| Richards|  Male|      Demimbu|Chief Design Engi...|\n",
      "| 16|     Scott|   Arnold|  Male|        Meemm|Human Resources A...|\n",
      "| 17|      Ruby|   Palmer|Female|        Roomm|Administrative Of...|\n",
      "| 18|     Jason|     King|  Male|      Flipbug|   Financial Advisor|\n",
      "| 19|    Pamela|    Kelly|Female|        Jaloo|   Director of Sales|\n",
      "| 20|      Lisa|     Rice|Female|         Oloo|       Programmer IV|\n",
      "+---+----------+---------+------+-------------+--------------------+\n",
      "only showing top 20 rows\n",
      "\n"
     ]
    }
   ],
   "source": [
    "customers.show()"
   ]
  },
  {
   "cell_type": "code",
   "execution_count": 5,
   "id": "8ed41512",
   "metadata": {},
   "outputs": [
    {
     "name": "stdout",
     "output_type": "stream",
     "text": [
      "+-------+----------+-----+\n",
      "|Food ID| Food Item|Price|\n",
      "+-------+----------+-----+\n",
      "|      1|     Sushi| 3.99|\n",
      "|      2|   Burrito| 9.99|\n",
      "|      3|      Taco| 2.99|\n",
      "|      4|Quesadilla| 4.25|\n",
      "|      5|     Pizza| 2.49|\n",
      "|      6|     Pasta|13.99|\n",
      "|      7|     Steak|24.99|\n",
      "|      8|     Salad|11.25|\n",
      "|      9|     Donut| 0.99|\n",
      "|     10|     Drink| 1.75|\n",
      "+-------+----------+-----+\n",
      "\n"
     ]
    }
   ],
   "source": [
    "foods.show()"
   ]
  },
  {
   "cell_type": "code",
   "execution_count": 6,
   "id": "ec7c21f7",
   "metadata": {},
   "outputs": [
    {
     "name": "stdout",
     "output_type": "stream",
     "text": [
      "+-----------+-------+\n",
      "|Customer ID|Food ID|\n",
      "+-----------+-------+\n",
      "|        537|      9|\n",
      "|         97|      4|\n",
      "|        658|      1|\n",
      "|        202|      2|\n",
      "|        155|      9|\n",
      "|        213|      8|\n",
      "|        600|      1|\n",
      "|        503|      5|\n",
      "|         71|      3|\n",
      "|        174|      3|\n",
      "|        961|      9|\n",
      "|        966|      5|\n",
      "|        641|      4|\n",
      "|        288|      2|\n",
      "|        149|      4|\n",
      "|        954|      2|\n",
      "|        147|      9|\n",
      "|        155|      1|\n",
      "|        550|      6|\n",
      "|        101|      7|\n",
      "+-----------+-------+\n",
      "only showing top 20 rows\n",
      "\n"
     ]
    }
   ],
   "source": [
    "week1Sales.show()"
   ]
  },
  {
   "cell_type": "code",
   "execution_count": 7,
   "id": "92874cb6",
   "metadata": {},
   "outputs": [
    {
     "name": "stdout",
     "output_type": "stream",
     "text": [
      "+-----------+-------+\n",
      "|Customer ID|Food ID|\n",
      "+-----------+-------+\n",
      "|        688|     10|\n",
      "|        813|      7|\n",
      "|        495|     10|\n",
      "|        189|      5|\n",
      "|        267|      3|\n",
      "|        310|      5|\n",
      "|        761|      2|\n",
      "|        443|      5|\n",
      "|        729|      9|\n",
      "|        741|      8|\n",
      "|        847|      6|\n",
      "|        156|     10|\n",
      "|        550|      7|\n",
      "|        620|     10|\n",
      "|        272|      4|\n",
      "|        511|      2|\n",
      "|          8|      6|\n",
      "|        534|      7|\n",
      "|        909|      6|\n",
      "|        732|      9|\n",
      "+-----------+-------+\n",
      "only showing top 20 rows\n",
      "\n"
     ]
    }
   ],
   "source": [
    "week2Sales.show()"
   ]
  },
  {
   "cell_type": "code",
   "execution_count": 8,
   "id": "36cf9a3f",
   "metadata": {},
   "outputs": [],
   "source": [
    "sales = week1Sales.union(week2Sales)"
   ]
  },
  {
   "cell_type": "code",
   "execution_count": 9,
   "id": "7d7fe131",
   "metadata": {},
   "outputs": [
    {
     "name": "stdout",
     "output_type": "stream",
     "text": [
      "+-----------+-------+\n",
      "|Customer ID|Food ID|\n",
      "+-----------+-------+\n",
      "|        537|      9|\n",
      "|         97|      4|\n",
      "|        658|      1|\n",
      "|        202|      2|\n",
      "|        155|      9|\n",
      "|        213|      8|\n",
      "|        600|      1|\n",
      "|        503|      5|\n",
      "|         71|      3|\n",
      "|        174|      3|\n",
      "|        961|      9|\n",
      "|        966|      5|\n",
      "|        641|      4|\n",
      "|        288|      2|\n",
      "|        149|      4|\n",
      "|        954|      2|\n",
      "|        147|      9|\n",
      "|        155|      1|\n",
      "|        550|      6|\n",
      "|        101|      7|\n",
      "+-----------+-------+\n",
      "only showing top 20 rows\n",
      "\n"
     ]
    }
   ],
   "source": [
    "sales.show()"
   ]
  },
  {
   "cell_type": "code",
   "execution_count": 10,
   "id": "9c8c0072",
   "metadata": {},
   "outputs": [
    {
     "data": {
      "text/plain": [
       "500"
      ]
     },
     "execution_count": 10,
     "metadata": {},
     "output_type": "execute_result"
    }
   ],
   "source": [
    "sales.count()"
   ]
  },
  {
   "cell_type": "code",
   "execution_count": 11,
   "id": "69555655",
   "metadata": {},
   "outputs": [],
   "source": [
    "salesAndFoods = sales.join(foods, sales['Food ID'] == foods['Food ID'], \"inner\").drop(foods['Food ID'])"
   ]
  },
  {
   "cell_type": "code",
   "execution_count": 12,
   "id": "46eb0639",
   "metadata": {},
   "outputs": [
    {
     "name": "stdout",
     "output_type": "stream",
     "text": [
      "+-----------+-------+----------+-----+\n",
      "|Customer ID|Food ID| Food Item|Price|\n",
      "+-----------+-------+----------+-----+\n",
      "|        537|      9|     Donut| 0.99|\n",
      "|         97|      4|Quesadilla| 4.25|\n",
      "|        658|      1|     Sushi| 3.99|\n",
      "|        202|      2|   Burrito| 9.99|\n",
      "|        155|      9|     Donut| 0.99|\n",
      "|        213|      8|     Salad|11.25|\n",
      "|        600|      1|     Sushi| 3.99|\n",
      "|        503|      5|     Pizza| 2.49|\n",
      "|         71|      3|      Taco| 2.99|\n",
      "|        174|      3|      Taco| 2.99|\n",
      "|        961|      9|     Donut| 0.99|\n",
      "|        966|      5|     Pizza| 2.49|\n",
      "|        641|      4|Quesadilla| 4.25|\n",
      "|        288|      2|   Burrito| 9.99|\n",
      "|        149|      4|Quesadilla| 4.25|\n",
      "|        954|      2|   Burrito| 9.99|\n",
      "|        147|      9|     Donut| 0.99|\n",
      "|        155|      1|     Sushi| 3.99|\n",
      "|        550|      6|     Pasta|13.99|\n",
      "|        101|      7|     Steak|24.99|\n",
      "+-----------+-------+----------+-----+\n",
      "only showing top 20 rows\n",
      "\n"
     ]
    }
   ],
   "source": [
    "salesAndFoods.show()"
   ]
  },
  {
   "cell_type": "code",
   "execution_count": 13,
   "id": "91f6c1ff",
   "metadata": {},
   "outputs": [
    {
     "data": {
      "text/plain": [
       "['Customer ID', 'Food ID', 'Food Item', 'Price']"
      ]
     },
     "execution_count": 13,
     "metadata": {},
     "output_type": "execute_result"
    }
   ],
   "source": [
    "salesAndFoods.columns"
   ]
  },
  {
   "cell_type": "code",
   "execution_count": 14,
   "id": "7b13dad6",
   "metadata": {},
   "outputs": [],
   "source": [
    "result = customers.join(salesAndFoods, customers['ID'] == salesAndFoods['Customer ID'], \"inner\").drop(salesAndFoods['Customer ID'])"
   ]
  },
  {
   "cell_type": "code",
   "execution_count": 15,
   "id": "8666679b",
   "metadata": {},
   "outputs": [
    {
     "name": "stdout",
     "output_type": "stream",
     "text": [
      "+---+----------+---------+------+------------+--------------------+-------+----------+-----+\n",
      "| ID|First Name|Last Name|Gender|     Company|          Occupation|Food ID| Food Item|Price|\n",
      "+---+----------+---------+------+------------+--------------------+-------+----------+-----+\n",
      "|537|    Cheryl|  Carroll|Female|    Zoombeat|    Registered Nurse|      9|     Donut| 0.99|\n",
      "| 97|    Amanda|  Watkins|Female|         Ozu| Account Coordinator|      4|Quesadilla| 4.25|\n",
      "|658|   Patrick|     Webb|  Male|   Browsebug|Community Outreac...|      1|     Sushi| 3.99|\n",
      "|202|     Louis| Campbell|  Male|   Rhynoodle|Account Represent...|      2|   Burrito| 9.99|\n",
      "|155|   Carolyn|     Diaz|Female|    Gigazoom|Database Administ...|      9|     Donut| 0.99|\n",
      "|213|     Keith|   Foster|  Male|   Gigashots|  VP Quality Control|      8|     Salad|11.25|\n",
      "|600|    Sandra|   Bailey|Female|   Jaxnation|     Sales Associate|      1|     Sushi| 3.99|\n",
      "|503|    Justin|  Daniels|  Male|        Oloo|  Environmental Tech|      5|     Pizza| 2.49|\n",
      "| 71|   Carolyn|    Reyes|Female|      Twimbo|Safety Technician IV|      3|      Taco| 2.99|\n",
      "|174|      Anna|   Miller|Female|     Innojam|         Developer I|      3|      Taco| 2.99|\n",
      "|961|     Ralph| Richards|  Male|Thoughtstorm|        Accountant I|      9|     Donut| 0.99|\n",
      "|966|    Robert|     Ford|  Male|  Jabbertype|Account Represent...|      5|     Pizza| 2.49|\n",
      "|641|     Donna|Gutierrez|Female|     Dabtype| Assistant Professor|      4|Quesadilla| 4.25|\n",
      "|288|   Kenneth|  Jackson|  Male|       Voomm| Associate Professor|      2|   Burrito| 9.99|\n",
      "|149|  Jennifer|   Oliver|Female| Topiclounge|Database Administ...|      4|Quesadilla| 4.25|\n",
      "|954|    Thomas|  Perkins|  Male|      Roodel|   Account Executive|      2|   Burrito| 9.99|\n",
      "|147|   Theresa|  Morales|Female|       Abata|Occupational Ther...|      9|     Donut| 0.99|\n",
      "|155|   Carolyn|     Diaz|Female|    Gigazoom|Database Administ...|      1|     Sushi| 3.99|\n",
      "|550|    Walter|   Miller|  Male|        Yata|Payment Adjustmen...|      6|     Pasta|13.99|\n",
      "|101|    Jeremy|   Nelson|  Male| Brainlounge|    Web Developer IV|      7|     Steak|24.99|\n",
      "+---+----------+---------+------+------------+--------------------+-------+----------+-----+\n",
      "only showing top 20 rows\n",
      "\n"
     ]
    }
   ],
   "source": [
    "result.show()"
   ]
  },
  {
   "cell_type": "code",
   "execution_count": 16,
   "id": "e3473f5f",
   "metadata": {},
   "outputs": [],
   "source": [
    "# Find Customers who have came more than 1 time combing Week1 and Week 2  in descending"
   ]
  },
  {
   "cell_type": "code",
   "execution_count": 17,
   "id": "b31d5650",
   "metadata": {},
   "outputs": [],
   "source": [
    "customersVisitCount = result.groupBy('ID').count().orderBy('count', ascending = False)"
   ]
  },
  {
   "cell_type": "code",
   "execution_count": 18,
   "id": "42ccd490",
   "metadata": {},
   "outputs": [
    {
     "name": "stdout",
     "output_type": "stream",
     "text": [
      "+---+-----+\n",
      "| ID|count|\n",
      "+---+-----+\n",
      "| 77|    5|\n",
      "|495|    4|\n",
      "|343|    4|\n",
      "|503|    3|\n",
      "|155|    3|\n",
      "|922|    3|\n",
      "|100|    3|\n",
      "|937|    3|\n",
      "|310|    3|\n",
      "|304|    3|\n",
      "|909|    3|\n",
      "|331|    3|\n",
      "| 21|    3|\n",
      "|253|    3|\n",
      "|798|    3|\n",
      "|761|    3|\n",
      "|578|    3|\n",
      "|250|    2|\n",
      "| 51|    2|\n",
      "| 71|    2|\n",
      "+---+-----+\n",
      "only showing top 20 rows\n",
      "\n"
     ]
    }
   ],
   "source": [
    "customersVisitCount.show()"
   ]
  },
  {
   "cell_type": "code",
   "execution_count": 19,
   "id": "f8d9a25e",
   "metadata": {},
   "outputs": [
    {
     "name": "stdout",
     "output_type": "stream",
     "text": [
      "+-----+---+----------+---------+------+----------+--------------------+\n",
      "|count| ID|First Name|Last Name|Gender|   Company|          Occupation|\n",
      "+-----+---+----------+---------+------+----------+--------------------+\n",
      "|    5| 77|      Lori|  Edwards|Female|   Dabvine|Sales Representative|\n",
      "|    4|343|       Joe|    Price|  Male|  Fanoodle|   Marketing Manager|\n",
      "|    4|495|   Deborah|   Little|Female|Babbleblab|       VP Accounting|\n",
      "|    3|155|   Carolyn|     Diaz|Female|  Gigazoom|Database Administ...|\n",
      "|    3|310|     Bobby|     Sims|  Male| Skynoodle|   Marketing Manager|\n",
      "|    3|503|    Justin|  Daniels|  Male|      Oloo|  Environmental Tech|\n",
      "|    3|100|      Lois|   Howard|Female|     Voomm|Systems Administr...|\n",
      "|    3|761| Stephanie|    Olson|Female| Rhynoodle|    Web Developer IV|\n",
      "|    3|798|     Kelly|   Taylor|Female|     Meejo|     Design Engineer|\n",
      "|    3|578|    Donald| Matthews|  Male|  Fiveclub|Physical Therapy ...|\n",
      "|    3|304|  Margaret|     Cruz|Female| Jaxnation|Automation Specia...|\n",
      "|    3|922|    Willie|    Payne|  Male|    Devify|Assistant Media P...|\n",
      "|    3|909|    Cheryl|    Davis|Female|   Edgeify|     Health Coach IV|\n",
      "|    3|331|      Eric|  Elliott|  Male|   Skilith|Senior Financial ...|\n",
      "|    3| 21|    Albert|    Burns|  Male| Rhynoodle|    Junior Executive|\n",
      "|    3|937|    Sharon| Mcdonald|Female|    Eimbee|  Recruiting Manager|\n",
      "|    3|253|       Amy|   Lawson|Female|Browseblab|Compensation Analyst|\n",
      "|    2|919|    Ronald|    Welch|  Male|    Avamba|Help Desk Technician|\n",
      "|    2| 51|    Gloria|    Kelly|Female|    Agimba|Software Test Eng...|\n",
      "|    2|574|      Lisa|    Stone|Female| Riffpedia|       Senior Editor|\n",
      "+-----+---+----------+---------+------+----------+--------------------+\n",
      "only showing top 20 rows\n",
      "\n"
     ]
    }
   ],
   "source": [
    "customersVisitCount.join(customers, customersVisitCount['ID'] == customers['ID'], \"left\").drop(customers['ID']).show()"
   ]
  },
  {
   "cell_type": "code",
   "execution_count": 20,
   "id": "cc922695",
   "metadata": {},
   "outputs": [],
   "source": [
    "# Generate Bill Amount for customers eaten food separately for week1 and week2\n",
    "# Expected OP columns : CustID || Cust name|| Food Names|| Week 1 Bill amount || Week 2 Bill amount"
   ]
  },
  {
   "cell_type": "code",
   "execution_count": 21,
   "id": "8f93cf63",
   "metadata": {},
   "outputs": [],
   "source": [
    "# Join Food and Week 1 Sales\n",
    "# Join Food and Week 2 Sales\n",
    "\n",
    "week1SalesAndFoods = week1Sales.join(foods, week1Sales['Food ID'] == foods['Food ID'], \"inner\").drop(foods['Food ID'])\n",
    "week2SalesAndFoods = week2Sales.join(foods, week2Sales['Food ID'] == foods['Food ID'], \"inner\").drop(foods['Food ID'])"
   ]
  },
  {
   "cell_type": "code",
   "execution_count": 22,
   "id": "f42a854b",
   "metadata": {},
   "outputs": [
    {
     "name": "stdout",
     "output_type": "stream",
     "text": [
      "+-----------+-------+----------+-----+\n",
      "|Customer ID|Food ID| Food Item|Price|\n",
      "+-----------+-------+----------+-----+\n",
      "|        537|      9|     Donut| 0.99|\n",
      "|         97|      4|Quesadilla| 4.25|\n",
      "|        658|      1|     Sushi| 3.99|\n",
      "|        202|      2|   Burrito| 9.99|\n",
      "|        155|      9|     Donut| 0.99|\n",
      "|        213|      8|     Salad|11.25|\n",
      "|        600|      1|     Sushi| 3.99|\n",
      "|        503|      5|     Pizza| 2.49|\n",
      "|         71|      3|      Taco| 2.99|\n",
      "|        174|      3|      Taco| 2.99|\n",
      "|        961|      9|     Donut| 0.99|\n",
      "|        966|      5|     Pizza| 2.49|\n",
      "|        641|      4|Quesadilla| 4.25|\n",
      "|        288|      2|   Burrito| 9.99|\n",
      "|        149|      4|Quesadilla| 4.25|\n",
      "|        954|      2|   Burrito| 9.99|\n",
      "|        147|      9|     Donut| 0.99|\n",
      "|        155|      1|     Sushi| 3.99|\n",
      "|        550|      6|     Pasta|13.99|\n",
      "|        101|      7|     Steak|24.99|\n",
      "+-----------+-------+----------+-----+\n",
      "only showing top 20 rows\n",
      "\n"
     ]
    }
   ],
   "source": [
    "week1SalesAndFoods.show()"
   ]
  },
  {
   "cell_type": "code",
   "execution_count": 23,
   "id": "3bd33340",
   "metadata": {},
   "outputs": [
    {
     "name": "stdout",
     "output_type": "stream",
     "text": [
      "+-----------+-------+----------+-----+\n",
      "|Customer ID|Food ID| Food Item|Price|\n",
      "+-----------+-------+----------+-----+\n",
      "|        688|     10|     Drink| 1.75|\n",
      "|        813|      7|     Steak|24.99|\n",
      "|        495|     10|     Drink| 1.75|\n",
      "|        189|      5|     Pizza| 2.49|\n",
      "|        267|      3|      Taco| 2.99|\n",
      "|        310|      5|     Pizza| 2.49|\n",
      "|        761|      2|   Burrito| 9.99|\n",
      "|        443|      5|     Pizza| 2.49|\n",
      "|        729|      9|     Donut| 0.99|\n",
      "|        741|      8|     Salad|11.25|\n",
      "|        847|      6|     Pasta|13.99|\n",
      "|        156|     10|     Drink| 1.75|\n",
      "|        550|      7|     Steak|24.99|\n",
      "|        620|     10|     Drink| 1.75|\n",
      "|        272|      4|Quesadilla| 4.25|\n",
      "|        511|      2|   Burrito| 9.99|\n",
      "|          8|      6|     Pasta|13.99|\n",
      "|        534|      7|     Steak|24.99|\n",
      "|        909|      6|     Pasta|13.99|\n",
      "|        732|      9|     Donut| 0.99|\n",
      "+-----------+-------+----------+-----+\n",
      "only showing top 20 rows\n",
      "\n"
     ]
    }
   ],
   "source": [
    "week2SalesAndFoods.show()"
   ]
  },
  {
   "cell_type": "code",
   "execution_count": 24,
   "id": "3bc1a9e5",
   "metadata": {},
   "outputs": [],
   "source": [
    "# Type cast Price column to double\n",
    "\n",
    "week1SalesAndFoods = week1SalesAndFoods.withColumn('Price', week1SalesAndFoods['Price'].cast('double'))\n",
    "week2SalesAndFoods = week2SalesAndFoods.withColumn('Price', week2SalesAndFoods['Price'].cast('double'))"
   ]
  },
  {
   "cell_type": "code",
   "execution_count": 25,
   "id": "40b067cb",
   "metadata": {},
   "outputs": [],
   "source": [
    "# Union Week1 and Week2 sales as a single dataframe to get the list of food items ordered by a customer\n",
    "from pyspark.sql.functions import collect_set\n",
    "from pyspark.sql.functions import sum\n",
    "\n",
    "week1And2Sales = week1SalesAndFoods.union(week2SalesAndFoods)\n",
    "week1And2Sales = week1And2Sales.groupBy('Customer ID').agg(collect_set('Food Item').alias('Food Items'))\n",
    "\n",
    "# Calculate bill amount of a customer in week1 and week2\n",
    "week1SalesAndFoodsSum = week1SalesAndFoods.groupBy('Customer ID').agg(sum('Price').alias('Week 1 Bill amount'))\n",
    "week2SalesAndFoodsSum = week2SalesAndFoods.groupBy('Customer ID').agg(sum('Price').alias('Week 2 Bill amount'))"
   ]
  },
  {
   "cell_type": "code",
   "execution_count": 26,
   "id": "901276da",
   "metadata": {},
   "outputs": [
    {
     "name": "stdout",
     "output_type": "stream",
     "text": [
      "+-----------+------------------+\n",
      "|Customer ID|Week 1 Bill amount|\n",
      "+-----------+------------------+\n",
      "|        296|              0.99|\n",
      "|        919|              1.75|\n",
      "|        926|             13.99|\n",
      "|         51|             11.74|\n",
      "|        574|              1.75|\n",
      "|        475|              1.75|\n",
      "|        307|              0.99|\n",
      "|        747|              2.49|\n",
      "|        462|              2.99|\n",
      "|        282|             24.99|\n",
      "|        155|              4.98|\n",
      "|        483|             13.99|\n",
      "|        101|             24.99|\n",
      "|        433|             24.99|\n",
      "|        595|              2.99|\n",
      "|        961|              0.99|\n",
      "|        351|              1.75|\n",
      "|        323|              3.99|\n",
      "|        138|              4.25|\n",
      "|        419|             24.99|\n",
      "+-----------+------------------+\n",
      "only showing top 20 rows\n",
      "\n"
     ]
    }
   ],
   "source": [
    "week1SalesAndFoodsSum.show()"
   ]
  },
  {
   "cell_type": "code",
   "execution_count": 27,
   "id": "1179b8c1",
   "metadata": {},
   "outputs": [
    {
     "name": "stdout",
     "output_type": "stream",
     "text": [
      "+-----------+--------------------+\n",
      "|Customer ID|          Food Items|\n",
      "+-----------+--------------------+\n",
      "|         10|           [Burrito]|\n",
      "|        100|[Quesadilla, Stea...|\n",
      "|       1000|           [Burrito]|\n",
      "|        101| [Quesadilla, Steak]|\n",
      "|        107|           [Burrito]|\n",
      "|        108|              [Taco]|\n",
      "|        110|             [Salad]|\n",
      "|        111|              [Taco]|\n",
      "|        114|             [Pizza]|\n",
      "|        117|             [Pizza]|\n",
      "|        121|              [Taco]|\n",
      "|        122|    [Burrito, Drink]|\n",
      "|        123|             [Pasta]|\n",
      "|        127|             [Sushi]|\n",
      "|         13|           [Burrito]|\n",
      "|        131|             [Sushi]|\n",
      "|        132|             [Salad]|\n",
      "|        134|              [Taco]|\n",
      "|        136|             [Sushi]|\n",
      "|        138|        [Quesadilla]|\n",
      "+-----------+--------------------+\n",
      "only showing top 20 rows\n",
      "\n"
     ]
    }
   ],
   "source": [
    "week1And2Sales.show()"
   ]
  },
  {
   "cell_type": "code",
   "execution_count": 28,
   "id": "0b53852f",
   "metadata": {},
   "outputs": [],
   "source": [
    "# Join week 1 bill amount column to customers table\n",
    "customersWeek1Sales = customers.join( \\\n",
    "                                   week1SalesAndFoodsSum, \\\n",
    "                                   customers['ID'] == week1SalesAndFoodsSum['Customer ID'], \\\n",
    "                                   \"inner\" \\\n",
    "                               ).drop(week1SalesAndFoodsSum['Customer ID'])\n",
    "\n",
    "# Join week 2 bill amount to previous dataframe\n",
    "customersWeek1And2Sales = customersWeek1Sales.join( \\\n",
    "                                                   week2SalesAndFoodsSum, \\\n",
    "                                                   customersWeek1Sales['ID'] == week2SalesAndFoodsSum['Customer ID'], \\\n",
    "                                                   \"inner\" \\\n",
    "                                                  ).drop(week2SalesAndFoodsSum['Customer ID'])\n",
    "\n",
    "# Join food items to previous dataframe\n",
    "customersFoodItems = customersWeek1And2Sales.join( \\\n",
    "                                                  week1And2Sales, \\\n",
    "                                                  customersWeek1And2Sales['ID'] == week1And2Sales['Customer ID'], \\\n",
    "                                                  \"inner\" \\\n",
    "                                                 )\n",
    "\n",
    "customersFoodItems = customersFoodItems.drop('Customer ID')"
   ]
  },
  {
   "cell_type": "code",
   "execution_count": 29,
   "id": "847f48aa",
   "metadata": {},
   "outputs": [
    {
     "name": "stdout",
     "output_type": "stream",
     "text": [
      "+---+----------+----------+------+-----------+--------------------+------------------+------------------+--------------------+\n",
      "| ID|First Name| Last Name|Gender|    Company|          Occupation|Week 1 Bill amount|Week 2 Bill amount|          Food Items|\n",
      "+---+----------+----------+------+-----------+--------------------+------------------+------------------+--------------------+\n",
      "|919|    Ronald|     Welch|  Male|     Avamba|Help Desk Technician|              1.75|             11.25|      [Salad, Drink]|\n",
      "|574|      Lisa|     Stone|Female|  Riffpedia|       Senior Editor|              1.75|              0.99|      [Drink, Donut]|\n",
      "|462|      Anne|     Lopez|Female|       Mydo|Mechanical System...|              2.99|             11.25|       [Salad, Taco]|\n",
      "|155|   Carolyn|      Diaz|Female|   Gigazoom|Database Administ...|              4.98|              2.99|[Taco, Sushi, Donut]|\n",
      "|101|    Jeremy|    Nelson|  Male|Brainlounge|    Web Developer IV|             24.99|              4.25| [Quesadilla, Steak]|\n",
      "|459|     James|Williamson|  Male|    Edgeify| Geological Engineer|             13.99|              3.99|      [Pasta, Sushi]|\n",
      "| 30|    Pamela|     Hicks|Female|      Ntags|     Cost Accountant|              9.99|              4.25|[Quesadilla, Burr...|\n",
      "|310|     Bobby|      Sims|  Male|  Skynoodle|   Marketing Manager|             13.98|              2.49|[Pizza, Burrito, ...|\n",
      "|479|      Juan|  Campbell|  Male|     Wikizz|  VP Quality Control|             13.99|              2.99|       [Taco, Pasta]|\n",
      "|628|     David|   Gardner|  Male|    Jetwire| Software Consultant|              4.25|             24.99| [Quesadilla, Steak]|\n",
      "|343|       Joe|     Price|  Male|   Fanoodle|   Marketing Manager|              2.99|             37.47|[Pizza, Burrito, ...|\n",
      "|520|   Melissa|   Wallace|Female|      Skyvu|Administrative Of...|             11.25|             24.99|      [Salad, Steak]|\n",
      "|503|    Justin|   Daniels|  Male|       Oloo|  Environmental Tech|              2.49|             12.24|[Pizza, Salad, Do...|\n",
      "|163|      Lisa|    Palmer|Female|Shufflebeat|        Food Chemist|              3.99|              1.75|      [Drink, Sushi]|\n",
      "|761| Stephanie|     Olson|Female|  Rhynoodle|    Web Developer IV|              0.99|             12.98|[Burrito, Taco, D...|\n",
      "| 75| Catherine| Carpenter|Female|     Zoozzy|   Marketing Manager|             13.99|              4.25| [Quesadilla, Pasta]|\n",
      "|621|       Amy|      Long|Female|     Skidoo|  Research Associate|              0.99|             13.99|      [Pasta, Donut]|\n",
      "| 77|      Lori|   Edwards|Female|    Dabvine|Sales Representative|             15.96|             24.99|[Burrito, Steak, ...|\n",
      "|798|     Kelly|    Taylor|Female|      Meejo|     Design Engineer|              4.98|              2.49|[Pizza, Sushi, Do...|\n",
      "|537|    Cheryl|   Carroll|Female|   Zoombeat|    Registered Nurse|              0.99|              2.49|      [Pizza, Donut]|\n",
      "+---+----------+----------+------+-----------+--------------------+------------------+------------------+--------------------+\n",
      "only showing top 20 rows\n",
      "\n"
     ]
    }
   ],
   "source": [
    "customersFoodItems.show()"
   ]
  },
  {
   "cell_type": "code",
   "execution_count": 30,
   "id": "49a208e1",
   "metadata": {},
   "outputs": [
    {
     "data": {
      "text/plain": [
       "[Row(Food Items=['Burrito', 'Steak', 'Sushi', 'Donut'])]"
      ]
     },
     "execution_count": 30,
     "metadata": {},
     "output_type": "execute_result"
    }
   ],
   "source": [
    "customersFoodItems.select('Food Items').where(\"ID == '77'\").collect()"
   ]
  },
  {
   "cell_type": "code",
   "execution_count": 31,
   "id": "1e78b6bb",
   "metadata": {},
   "outputs": [],
   "source": [
    "# Find the Frequency of Ordered Food and Show them in descending"
   ]
  },
  {
   "cell_type": "code",
   "execution_count": 32,
   "id": "fc18a252",
   "metadata": {},
   "outputs": [
    {
     "name": "stdout",
     "output_type": "stream",
     "text": [
      "+-------+----------+-----+\n",
      "|Food ID| Food Item|Price|\n",
      "+-------+----------+-----+\n",
      "|      1|     Sushi| 3.99|\n",
      "|      2|   Burrito| 9.99|\n",
      "|      3|      Taco| 2.99|\n",
      "|      4|Quesadilla| 4.25|\n",
      "|      5|     Pizza| 2.49|\n",
      "|      6|     Pasta|13.99|\n",
      "|      7|     Steak|24.99|\n",
      "|      8|     Salad|11.25|\n",
      "|      9|     Donut| 0.99|\n",
      "|     10|     Drink| 1.75|\n",
      "+-------+----------+-----+\n",
      "\n"
     ]
    }
   ],
   "source": [
    "foods.show()"
   ]
  },
  {
   "cell_type": "code",
   "execution_count": 33,
   "id": "499822b0",
   "metadata": {},
   "outputs": [],
   "source": [
    "from pyspark.sql.functions import count\n",
    "\n",
    "orderedFoodCount = sales.groupBy('Food ID').agg(count('Food ID').alias('Frequency')).orderBy('Frequency', ascending = False)"
   ]
  },
  {
   "cell_type": "code",
   "execution_count": 34,
   "id": "0ea0b45f",
   "metadata": {},
   "outputs": [
    {
     "name": "stdout",
     "output_type": "stream",
     "text": [
      "+-------+---------+\n",
      "|Food ID|Frequency|\n",
      "+-------+---------+\n",
      "|     10|       59|\n",
      "|      2|       57|\n",
      "|      9|       55|\n",
      "|      6|       54|\n",
      "|      7|       50|\n",
      "|      4|       49|\n",
      "|      8|       48|\n",
      "|      3|       46|\n",
      "|      1|       43|\n",
      "|      5|       39|\n",
      "+-------+---------+\n",
      "\n"
     ]
    }
   ],
   "source": [
    "orderedFoodCount.show()"
   ]
  },
  {
   "cell_type": "code",
   "execution_count": 35,
   "id": "12c0b9e2",
   "metadata": {},
   "outputs": [
    {
     "name": "stdout",
     "output_type": "stream",
     "text": [
      "+-------+----------+-----+\n",
      "|Food ID| Food Item|Price|\n",
      "+-------+----------+-----+\n",
      "|      1|     Sushi| 3.99|\n",
      "|      2|   Burrito| 9.99|\n",
      "|      3|      Taco| 2.99|\n",
      "|      4|Quesadilla| 4.25|\n",
      "|      5|     Pizza| 2.49|\n",
      "|      6|     Pasta|13.99|\n",
      "|      7|     Steak|24.99|\n",
      "|      8|     Salad|11.25|\n",
      "|      9|     Donut| 0.99|\n",
      "|     10|     Drink| 1.75|\n",
      "+-------+----------+-----+\n",
      "\n"
     ]
    }
   ],
   "source": [
    "foods.show()"
   ]
  },
  {
   "cell_type": "code",
   "execution_count": 36,
   "id": "2671a838",
   "metadata": {},
   "outputs": [],
   "source": [
    "orderedFoodCount = orderedFoodCount.join(foods, orderedFoodCount['Food ID'] == foods['Food ID'], \"left\").drop(foods['Food ID'])"
   ]
  },
  {
   "cell_type": "code",
   "execution_count": 37,
   "id": "a423b06f",
   "metadata": {},
   "outputs": [
    {
     "name": "stdout",
     "output_type": "stream",
     "text": [
      "+-------+---------+----------+-----+\n",
      "|Food ID|Frequency| Food Item|Price|\n",
      "+-------+---------+----------+-----+\n",
      "|     10|       59|     Drink| 1.75|\n",
      "|      2|       57|   Burrito| 9.99|\n",
      "|      9|       55|     Donut| 0.99|\n",
      "|      6|       54|     Pasta|13.99|\n",
      "|      7|       50|     Steak|24.99|\n",
      "|      4|       49|Quesadilla| 4.25|\n",
      "|      8|       48|     Salad|11.25|\n",
      "|      3|       46|      Taco| 2.99|\n",
      "|      1|       43|     Sushi| 3.99|\n",
      "|      5|       39|     Pizza| 2.49|\n",
      "+-------+---------+----------+-----+\n",
      "\n"
     ]
    }
   ],
   "source": [
    "orderedFoodCount.show()"
   ]
  },
  {
   "cell_type": "code",
   "execution_count": 38,
   "id": "97398e1d",
   "metadata": {},
   "outputs": [],
   "source": [
    "# Lets Consider Colleagues came on team dinner and generate bill amount for a team(use company column in customer \n",
    "# sheet) combing Week1 and Week 2 in descending \n",
    "# Expected OP columns : Company Name|| Food Names || Bill Amount"
   ]
  },
  {
   "cell_type": "code",
   "execution_count": 39,
   "id": "f8eb171a",
   "metadata": {},
   "outputs": [
    {
     "name": "stdout",
     "output_type": "stream",
     "text": [
      "+---+----------+---------+------+------------+--------------------+-------+----------+-----+\n",
      "| ID|First Name|Last Name|Gender|     Company|          Occupation|Food ID| Food Item|Price|\n",
      "+---+----------+---------+------+------------+--------------------+-------+----------+-----+\n",
      "|537|    Cheryl|  Carroll|Female|    Zoombeat|    Registered Nurse|      9|     Donut| 0.99|\n",
      "| 97|    Amanda|  Watkins|Female|         Ozu| Account Coordinator|      4|Quesadilla| 4.25|\n",
      "|658|   Patrick|     Webb|  Male|   Browsebug|Community Outreac...|      1|     Sushi| 3.99|\n",
      "|202|     Louis| Campbell|  Male|   Rhynoodle|Account Represent...|      2|   Burrito| 9.99|\n",
      "|155|   Carolyn|     Diaz|Female|    Gigazoom|Database Administ...|      9|     Donut| 0.99|\n",
      "|213|     Keith|   Foster|  Male|   Gigashots|  VP Quality Control|      8|     Salad|11.25|\n",
      "|600|    Sandra|   Bailey|Female|   Jaxnation|     Sales Associate|      1|     Sushi| 3.99|\n",
      "|503|    Justin|  Daniels|  Male|        Oloo|  Environmental Tech|      5|     Pizza| 2.49|\n",
      "| 71|   Carolyn|    Reyes|Female|      Twimbo|Safety Technician IV|      3|      Taco| 2.99|\n",
      "|174|      Anna|   Miller|Female|     Innojam|         Developer I|      3|      Taco| 2.99|\n",
      "|961|     Ralph| Richards|  Male|Thoughtstorm|        Accountant I|      9|     Donut| 0.99|\n",
      "|966|    Robert|     Ford|  Male|  Jabbertype|Account Represent...|      5|     Pizza| 2.49|\n",
      "|641|     Donna|Gutierrez|Female|     Dabtype| Assistant Professor|      4|Quesadilla| 4.25|\n",
      "|288|   Kenneth|  Jackson|  Male|       Voomm| Associate Professor|      2|   Burrito| 9.99|\n",
      "|149|  Jennifer|   Oliver|Female| Topiclounge|Database Administ...|      4|Quesadilla| 4.25|\n",
      "|954|    Thomas|  Perkins|  Male|      Roodel|   Account Executive|      2|   Burrito| 9.99|\n",
      "|147|   Theresa|  Morales|Female|       Abata|Occupational Ther...|      9|     Donut| 0.99|\n",
      "|155|   Carolyn|     Diaz|Female|    Gigazoom|Database Administ...|      1|     Sushi| 3.99|\n",
      "|550|    Walter|   Miller|  Male|        Yata|Payment Adjustmen...|      6|     Pasta|13.99|\n",
      "|101|    Jeremy|   Nelson|  Male| Brainlounge|    Web Developer IV|      7|     Steak|24.99|\n",
      "+---+----------+---------+------+------------+--------------------+-------+----------+-----+\n",
      "only showing top 20 rows\n",
      "\n"
     ]
    }
   ],
   "source": [
    "result.show()"
   ]
  },
  {
   "cell_type": "code",
   "execution_count": 40,
   "id": "3f2899ae",
   "metadata": {},
   "outputs": [],
   "source": [
    "# Type cast Price column to double\n",
    "\n",
    "result = result.withColumn('Price', result['Price'].cast('double'))\n",
    "teamBillAmount = result.groupBy('Company') \\\n",
    "                       .agg( \\\n",
    "                            sum('Price').alias('Total Price'), \\\n",
    "                            collect_set('Food Item').alias('Food Items') \\\n",
    "                           ) \\\n",
    "                       .orderBy( \\\n",
    "                                'Total Price', \\\n",
    "                                ascending = False \\\n",
    "                               )"
   ]
  },
  {
   "cell_type": "code",
   "execution_count": 41,
   "id": "aecf59d6",
   "metadata": {},
   "outputs": [
    {
     "name": "stdout",
     "output_type": "stream",
     "text": [
      "+------------+------------------+--------------------+\n",
      "|     Company|       Total Price|          Food Items|\n",
      "+------------+------------------+--------------------+\n",
      "|   Rhynoodle|              61.7|[Quesadilla, Burr...|\n",
      "|       Yadel|55.959999999999994|[Taco, Steak, Pasta]|\n",
      "|       Voomm|             54.96|[Quesadilla, Burr...|\n",
      "|  Browseblab|54.470000000000006|[Pizza, Salad, St...|\n",
      "|      Wikizz|54.209999999999994|[Salad, Taco, Ste...|\n",
      "|Jabbersphere|53.199999999999996|[Burrito, Salad, ...|\n",
      "|    Edgeblab|             49.98|             [Steak]|\n",
      "|       Npath|49.220000000000006|[Burrito, Salad, ...|\n",
      "|        Muxo|             48.97|[Burrito, Steak, ...|\n",
      "|       Vimbo|47.489999999999995|      [Salad, Steak]|\n",
      "|        Yata|             45.72|[Pizza, Quesadill...|\n",
      "|   Bubblebox|             44.72|[Steak, Pasta, Dr...|\n",
      "| Brainlounge|43.230000000000004|[Quesadilla, Stea...|\n",
      "|    Fanoodle|             42.95|[Pizza, Burrito, ...|\n",
      "|     Edgeify|              41.2|[Quesadilla, Past...|\n",
      "|     Dabvine|             40.95|[Burrito, Steak, ...|\n",
      "|       Yabox|             40.73|[Steak, Pasta, Dr...|\n",
      "|      Mybuzz|             39.23|[Quesadilla, Burr...|\n",
      "|      Trudoo|             39.23|[Quesadilla, Burr...|\n",
      "|        Tazz|             37.97|    [Burrito, Pasta]|\n",
      "+------------+------------------+--------------------+\n",
      "only showing top 20 rows\n",
      "\n"
     ]
    }
   ],
   "source": [
    "teamBillAmount.show()"
   ]
  },
  {
   "cell_type": "code",
   "execution_count": 42,
   "id": "77d5cfee",
   "metadata": {},
   "outputs": [],
   "source": [
    "# Find who all Ordered same item and group them and find count of male and female in that, and what is over all value \n",
    "# that food items to the restaurant combining week 1 and week 2 sales\n",
    "# Expected OP columns : Food Name|| Customer names || Count of male || count of Female || Overall Food Amount"
   ]
  },
  {
   "cell_type": "code",
   "execution_count": 53,
   "id": "d485253d",
   "metadata": {},
   "outputs": [
    {
     "name": "stdout",
     "output_type": "stream",
     "text": [
      "+---+----------+---------+------+------------+--------------------+-------+----------+-----+\n",
      "| ID|First Name|Last Name|Gender|     Company|          Occupation|Food ID| Food Item|Price|\n",
      "+---+----------+---------+------+------------+--------------------+-------+----------+-----+\n",
      "|537|    Cheryl|  Carroll|Female|    Zoombeat|    Registered Nurse|      9|     Donut| 0.99|\n",
      "| 97|    Amanda|  Watkins|Female|         Ozu| Account Coordinator|      4|Quesadilla| 4.25|\n",
      "|658|   Patrick|     Webb|  Male|   Browsebug|Community Outreac...|      1|     Sushi| 3.99|\n",
      "|202|     Louis| Campbell|  Male|   Rhynoodle|Account Represent...|      2|   Burrito| 9.99|\n",
      "|155|   Carolyn|     Diaz|Female|    Gigazoom|Database Administ...|      9|     Donut| 0.99|\n",
      "|213|     Keith|   Foster|  Male|   Gigashots|  VP Quality Control|      8|     Salad|11.25|\n",
      "|600|    Sandra|   Bailey|Female|   Jaxnation|     Sales Associate|      1|     Sushi| 3.99|\n",
      "|503|    Justin|  Daniels|  Male|        Oloo|  Environmental Tech|      5|     Pizza| 2.49|\n",
      "| 71|   Carolyn|    Reyes|Female|      Twimbo|Safety Technician IV|      3|      Taco| 2.99|\n",
      "|174|      Anna|   Miller|Female|     Innojam|         Developer I|      3|      Taco| 2.99|\n",
      "|961|     Ralph| Richards|  Male|Thoughtstorm|        Accountant I|      9|     Donut| 0.99|\n",
      "|966|    Robert|     Ford|  Male|  Jabbertype|Account Represent...|      5|     Pizza| 2.49|\n",
      "|641|     Donna|Gutierrez|Female|     Dabtype| Assistant Professor|      4|Quesadilla| 4.25|\n",
      "|288|   Kenneth|  Jackson|  Male|       Voomm| Associate Professor|      2|   Burrito| 9.99|\n",
      "|149|  Jennifer|   Oliver|Female| Topiclounge|Database Administ...|      4|Quesadilla| 4.25|\n",
      "|954|    Thomas|  Perkins|  Male|      Roodel|   Account Executive|      2|   Burrito| 9.99|\n",
      "|147|   Theresa|  Morales|Female|       Abata|Occupational Ther...|      9|     Donut| 0.99|\n",
      "|155|   Carolyn|     Diaz|Female|    Gigazoom|Database Administ...|      1|     Sushi| 3.99|\n",
      "|550|    Walter|   Miller|  Male|        Yata|Payment Adjustmen...|      6|     Pasta|13.99|\n",
      "|101|    Jeremy|   Nelson|  Male| Brainlounge|    Web Developer IV|      7|     Steak|24.99|\n",
      "+---+----------+---------+------+------------+--------------------+-------+----------+-----+\n",
      "only showing top 20 rows\n",
      "\n"
     ]
    }
   ],
   "source": [
    "result.show()"
   ]
  },
  {
   "cell_type": "code",
   "execution_count": 70,
   "id": "5e3418e4",
   "metadata": {},
   "outputs": [],
   "source": [
    "from pyspark.sql.functions import concat_ws\n",
    "\n",
    "result = result.withColumn('Customer Name', concat_ws(' ','First Name','Last Name'))"
   ]
  },
  {
   "cell_type": "code",
   "execution_count": 71,
   "id": "599ba6b5",
   "metadata": {},
   "outputs": [
    {
     "name": "stdout",
     "output_type": "stream",
     "text": [
      "+---+----------+---------+------+------------+--------------------+-------+----------+-----+---------------+\n",
      "| ID|First Name|Last Name|Gender|     Company|          Occupation|Food ID| Food Item|Price|  Customer Name|\n",
      "+---+----------+---------+------+------------+--------------------+-------+----------+-----+---------------+\n",
      "|537|    Cheryl|  Carroll|Female|    Zoombeat|    Registered Nurse|      9|     Donut| 0.99| Cheryl Carroll|\n",
      "| 97|    Amanda|  Watkins|Female|         Ozu| Account Coordinator|      4|Quesadilla| 4.25| Amanda Watkins|\n",
      "|658|   Patrick|     Webb|  Male|   Browsebug|Community Outreac...|      1|     Sushi| 3.99|   Patrick Webb|\n",
      "|202|     Louis| Campbell|  Male|   Rhynoodle|Account Represent...|      2|   Burrito| 9.99| Louis Campbell|\n",
      "|155|   Carolyn|     Diaz|Female|    Gigazoom|Database Administ...|      9|     Donut| 0.99|   Carolyn Diaz|\n",
      "|213|     Keith|   Foster|  Male|   Gigashots|  VP Quality Control|      8|     Salad|11.25|   Keith Foster|\n",
      "|600|    Sandra|   Bailey|Female|   Jaxnation|     Sales Associate|      1|     Sushi| 3.99|  Sandra Bailey|\n",
      "|503|    Justin|  Daniels|  Male|        Oloo|  Environmental Tech|      5|     Pizza| 2.49| Justin Daniels|\n",
      "| 71|   Carolyn|    Reyes|Female|      Twimbo|Safety Technician IV|      3|      Taco| 2.99|  Carolyn Reyes|\n",
      "|174|      Anna|   Miller|Female|     Innojam|         Developer I|      3|      Taco| 2.99|    Anna Miller|\n",
      "|961|     Ralph| Richards|  Male|Thoughtstorm|        Accountant I|      9|     Donut| 0.99| Ralph Richards|\n",
      "|966|    Robert|     Ford|  Male|  Jabbertype|Account Represent...|      5|     Pizza| 2.49|    Robert Ford|\n",
      "|641|     Donna|Gutierrez|Female|     Dabtype| Assistant Professor|      4|Quesadilla| 4.25|Donna Gutierrez|\n",
      "|288|   Kenneth|  Jackson|  Male|       Voomm| Associate Professor|      2|   Burrito| 9.99|Kenneth Jackson|\n",
      "|149|  Jennifer|   Oliver|Female| Topiclounge|Database Administ...|      4|Quesadilla| 4.25|Jennifer Oliver|\n",
      "|954|    Thomas|  Perkins|  Male|      Roodel|   Account Executive|      2|   Burrito| 9.99| Thomas Perkins|\n",
      "|147|   Theresa|  Morales|Female|       Abata|Occupational Ther...|      9|     Donut| 0.99|Theresa Morales|\n",
      "|155|   Carolyn|     Diaz|Female|    Gigazoom|Database Administ...|      1|     Sushi| 3.99|   Carolyn Diaz|\n",
      "|550|    Walter|   Miller|  Male|        Yata|Payment Adjustmen...|      6|     Pasta|13.99|  Walter Miller|\n",
      "|101|    Jeremy|   Nelson|  Male| Brainlounge|    Web Developer IV|      7|     Steak|24.99|  Jeremy Nelson|\n",
      "+---+----------+---------+------+------------+--------------------+-------+----------+-----+---------------+\n",
      "only showing top 20 rows\n",
      "\n"
     ]
    }
   ],
   "source": [
    "result.show()"
   ]
  },
  {
   "cell_type": "code",
   "execution_count": 81,
   "id": "f0fe5778",
   "metadata": {},
   "outputs": [
    {
     "name": "stdout",
     "output_type": "stream",
     "text": [
      "+----------+--------------------+------------+----------+\n",
      "| Food Item|      Customers Name|Female Count|Male Count|\n",
      "+----------+--------------------+------------+----------+\n",
      "|     Drink|[Doris Mcdonald, ...|          32|        27|\n",
      "|     Salad|[Kathy Russell, A...|          27|        21|\n",
      "|     Sushi|[Teresa Reynolds,...|          20|        23|\n",
      "|     Steak|[Tammy Cole, Kath...|          28|        22|\n",
      "|Quesadilla|[Teresa Reynolds,...|          23|        26|\n",
      "|     Pizza|[Bobby Sims, Robe...|          18|        21|\n",
      "|      Taco|[Melissa Mcdonald...|          27|        19|\n",
      "|   Burrito|[Bobby Sims, Euge...|          28|        29|\n",
      "|     Pasta|[Russell Garza, V...|          28|        26|\n",
      "|     Donut|[Andrea Butler, R...|          35|        20|\n",
      "+----------+--------------------+------------+----------+\n",
      "\n"
     ]
    }
   ],
   "source": [
    "from pyspark.sql.functions import when\n",
    "\n",
    "result.groupBy('Food Item') \\\n",
    "        .agg( \\\n",
    "             collect_set('Customer Name').alias('Customers Name'), \\\n",
    "             count( \\\n",
    "                   when(result['Gender'] == 'Female', result['ID']) \\\n",
    "                  ).alias('Female Count'), \\\n",
    "             count( \\\n",
    "                   when(result['Gender'] == 'Male', result['ID']) \\\n",
    "                  ).alias('Male Count') \\\n",
    "            ).show()"
   ]
  },
  {
   "cell_type": "code",
   "execution_count": null,
   "id": "de42f15c",
   "metadata": {},
   "outputs": [],
   "source": []
  }
 ],
 "metadata": {
  "kernelspec": {
   "display_name": "Python 3 (ipykernel)",
   "language": "python",
   "name": "python3"
  },
  "language_info": {
   "codemirror_mode": {
    "name": "ipython",
    "version": 3
   },
   "file_extension": ".py",
   "mimetype": "text/x-python",
   "name": "python",
   "nbconvert_exporter": "python",
   "pygments_lexer": "ipython3",
   "version": "3.11.1"
  }
 },
 "nbformat": 4,
 "nbformat_minor": 5
}
